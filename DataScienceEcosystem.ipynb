{
 "cells": [
  {
   "cell_type": "markdown",
   "id": "ce046450-f54d-480c-909d-181cbdd1366e",
   "metadata": {},
   "source": [
    "# Data Science Tools and Ecosystem"
   ]
  },
  {
   "cell_type": "markdown",
   "id": "1a6954a4-c19d-41e0-b22a-9177f54fd6c7",
   "metadata": {},
   "source": [
    "# In this notebook, Data Science Tools and Ecosystem are summarized."
   ]
  },
  {
   "cell_type": "markdown",
   "id": "08cf83cb-7b7b-47b4-85de-3655a384c8b6",
   "metadata": {},
   "source": [
    "# Some of the popular languages that Data Scientists use are:\n",
    "## 1- python\n",
    "## 2- sql\n",
    "## 3- r"
   ]
  },
  {
   "cell_type": "markdown",
   "id": "97c8124a-2cb2-4e27-a1a6-96fbb7df51e7",
   "metadata": {},
   "source": [
    "# Some of the commonly used libraries used by Data Scientists include:\n",
    "## NumPy\n",
    "## Pandas\n",
    "## Matplotlib,"
   ]
  },
  {
   "cell_type": "markdown",
   "id": "ec933a79-4910-457d-b23e-c60771643745",
   "metadata": {},
   "source": [
    "| Data Science Tools       |\n",
    "|--------------------------|\n",
    "| Jupyter Notebook         |\n",
    "| RStudio                  |\n",
    "| Apache Zeppelin          |\n"
   ]
  },
  {
   "cell_type": "markdown",
   "id": "e0601b12-bb9b-4f68-8768-792e792f6bb1",
   "metadata": {},
   "source": [
    "### Below are a few examples of evaluating arithmetic expressions in Python\n",
    "\n",
    "1. Addition: `2 + 3 = 5`\n",
    "2. Subtraction: `7 - 4 = 3`\n",
    "3. Multiplication: `6 * 8 = 48`\n",
    "4. Division: `10 / 2 = 5`\n"
   ]
  },
  {
   "cell_type": "code",
   "execution_count": 23,
   "id": "b42e4a3e-56fe-49a0-8df8-2c3b3fd97e07",
   "metadata": {},
   "outputs": [
    {
     "data": {
      "text/plain": [
       "17"
      ]
     },
     "execution_count": 23,
     "metadata": {},
     "output_type": "execute_result"
    }
   ],
   "source": [
    "# This is a simple arithmetic expression to multiply then add integers\n",
    "result = (3 * 4) + 5\n",
    "result\n"
   ]
  },
  {
   "cell_type": "code",
   "execution_count": 25,
   "id": "6985ece8-7a19-419d-9b42-398dda62a05b",
   "metadata": {},
   "outputs": [
    {
     "data": {
      "text/plain": [
       "3.3333333333333335"
      ]
     },
     "execution_count": 25,
     "metadata": {},
     "output_type": "execute_result"
    }
   ],
   "source": [
    "# This will convert 200 minutes to hours by dividing by 60\n",
    "minutes = 200\n",
    "hours = minutes / 60\n",
    "hours\n"
   ]
  },
  {
   "cell_type": "markdown",
   "id": "fb12d741-9dc0-4773-8226-e93633ffcb76",
   "metadata": {},
   "source": [
    "**Objectives:**\n",
    "\n",
    "- List popular languages for Data Science\n",
    "- Describe common libraries used in Data Science\n",
    "- Demonstrate basic data manipulation techniques\n",
    "- Show examples of data visualization\n",
    "- Explain machine learning algorithms\n"
   ]
  },
  {
   "cell_type": "markdown",
   "id": "9333bca6-2018-4740-97a3-16920a8ca873",
   "metadata": {},
   "source": [
    "## Author\n",
    "\n",
    "Mostafa\n"
   ]
  },
  {
   "cell_type": "code",
   "execution_count": null,
   "id": "6e1eb260-1b7a-4d70-a8f5-c524be022494",
   "metadata": {},
   "outputs": [],
   "source": []
  }
 ],
 "metadata": {
  "kernelspec": {
   "display_name": "Python 3 (ipykernel)",
   "language": "python",
   "name": "python3"
  },
  "language_info": {
   "codemirror_mode": {
    "name": "ipython",
    "version": 3
   },
   "file_extension": ".py",
   "mimetype": "text/x-python",
   "name": "python",
   "nbconvert_exporter": "python",
   "pygments_lexer": "ipython3",
   "version": "3.12.4"
  }
 },
 "nbformat": 4,
 "nbformat_minor": 5
}
